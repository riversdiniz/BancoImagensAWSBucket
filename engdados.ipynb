{
  "nbformat": 4,
  "nbformat_minor": 0,
  "metadata": {
    "colab": {
      "provenance": [],
      "include_colab_link": true
    },
    "kernelspec": {
      "name": "python3",
      "display_name": "Python 3"
    },
    "language_info": {
      "name": "python"
    }
  },
  "cells": [
    {
      "cell_type": "markdown",
      "metadata": {
        "id": "view-in-github",
        "colab_type": "text"
      },
      "source": [
        "<a href=\"https://colab.research.google.com/github/riversdiniz/BancoImagensAWSBucket/blob/main/engdados.ipynb\" target=\"_parent\"><img src=\"https://colab.research.google.com/assets/colab-badge.svg\" alt=\"Open In Colab\"/></a>"
      ]
    },
    {
      "cell_type": "code",
      "execution_count": null,
      "metadata": {
        "id": "oqrmasGqA1jW"
      },
      "outputs": [],
      "source": [
        "import psycopg2\n",
        "con = psycopg2.connect(host='database-1.c6qo8gfyftvm.us-east-2.rds.amazonaws.com',database='postgres',\n",
        "                       user='postgres',password='12345678')\n",
        "con.autocommit = True\n",
        "cur = con.cursor()\n",
        "cur.execute('create database inventario;')\n",
        "con.close()"
      ]
    },
    {
      "cell_type": "code",
      "source": [
        "import psycopg2\n",
        "con = psycopg2.connect(host='database-1.c6qo8gfyftvm.us-east-2.rds.amazonaws.com',database='inventario',\n",
        "                       user='postgres',password='12345678')\n",
        "con.autocommit = True\n",
        "cur = con.cursor()\n",
        "cur.execute('create table arquivos (idarquivo INT, nomearquivo VARCHAR(256));')\n",
        "con.close()"
      ],
      "metadata": {
        "id": "kEKbyFtBBGQN"
      },
      "execution_count": null,
      "outputs": []
    },
    {
      "cell_type": "code",
      "source": [
        "!pip install boto3"
      ],
      "metadata": {
        "id": "KrbaQzHiCi3u"
      },
      "execution_count": null,
      "outputs": []
    },
    {
      "cell_type": "code",
      "source": [
        "import boto3\n",
        "import io\n",
        "import psycopg2\n",
        "\n",
        "s3 = boto3.resource(\n",
        "    service_name='s3',\n",
        "    region_name = 'sa-east-1',\n",
        "    aws_access_key_id = '',\n",
        "    aws_secret_access_key = ''\n",
        "    )\n",
        "\n",
        "bucket = 'imagensengdados2023'\n",
        "prefix = 'imagens/'\n",
        "\n",
        "con = psycopg2.connect(host='database-1.c6qo8gfyftvm.us-east-2.rds.amazonaws.com',database='inventario',\n",
        "                       user='postgres',password='12345678')\n",
        "con.autocommit = True\n",
        "cur = con.cursor()\n",
        "id = 0\n",
        "\n",
        "for objects_s3 in s3.Bucket(bucket).objects.filter(Prefix=prefix):\n",
        "  if objects_s3.key.endswith('jpg') or objects_s3.key.endswith('JPG'):\n",
        "    filename = objects_s3.key.split('/')[1]\n",
        "    #print(filename)\n",
        "    id += 1\n",
        "    cur.execute(\"insert into arquivos (idarquivo,nomearquivo) values (\" +str(id)+ \",'\" + filename + \"')\")\n",
        "\n",
        "con.close()\n"
      ],
      "metadata": {
        "id": "M22p71ypDUbI"
      },
      "execution_count": null,
      "outputs": []
    },
    {
      "cell_type": "code",
      "source": [
        "import psycopg2\n",
        "con = psycopg2.connect(host='database-1.c6qo8gfyftvm.us-east-2.rds.amazonaws.com',database='inventario',\n",
        "                       user='postgres',password='12345678')\n",
        "con.autocommit = True\n",
        "cur = con.cursor()\n",
        "cur.execute('select * from arquivos;')\n",
        "recset = cur.fetchall()\n",
        "for rec in recset:\n",
        "  print(rec)\n",
        "con.close()"
      ],
      "metadata": {
        "colab": {
          "base_uri": "https://localhost:8080/"
        },
        "id": "JDoKhmKKFK9n",
        "outputId": "84a6c356-12b7-4b00-e999-ee082da31833"
      },
      "execution_count": null,
      "outputs": [
        {
          "output_type": "stream",
          "name": "stdout",
          "text": [
            "(1, 'avenue-g9ad8b9b60_640.jpg')\n",
            "(2, 'dandelion-ge4c90edd8_640.jpg')\n",
            "(3, 'fantasy-g95f970a56_640.jpg')\n",
            "(4, 'garden-g42e486784_640.jpg')\n",
            "(5, 'pink-ge82d54651_640.jpg')\n",
            "(6, 'road-g37132565b_640.jpg')\n",
            "(7, 'road-g41ea28d46_640.jpg')\n",
            "(8, 'sunset-gac16749a1_640.jpg')\n",
            "(9, 'tree-g386d6021c_640.jpg')\n",
            "(10, 'tree-gd34ff2fcb_640.jpg')\n"
          ]
        }
      ]
    },
    {
      "cell_type": "code",
      "source": [],
      "metadata": {
        "id": "RJapmZCvIjfq"
      },
      "execution_count": null,
      "outputs": []
    }
  ]
}